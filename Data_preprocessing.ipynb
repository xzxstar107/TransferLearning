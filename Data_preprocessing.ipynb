{
 "cells": [
  {
   "cell_type": "code",
   "execution_count": 1,
   "metadata": {},
   "outputs": [
    {
     "data": {
      "text/plain": [
       "['e:\\\\research\\\\Prof.Chen\\\\20200110\\\\data\\\\JD data',\n",
       " 'c:\\\\Users\\\\zexin\\\\.vscode\\\\extensions\\\\ms-python.python-2020.9.114305\\\\pythonFiles',\n",
       " 'c:\\\\Users\\\\zexin\\\\.vscode\\\\extensions\\\\ms-python.python-2020.9.114305\\\\pythonFiles\\\\lib\\\\python',\n",
       " 'C:\\\\Users\\\\zexin\\\\Anaconda3\\\\envs\\\\research1.0\\\\python37.zip',\n",
       " 'C:\\\\Users\\\\zexin\\\\Anaconda3\\\\envs\\\\research1.0\\\\DLLs',\n",
       " 'C:\\\\Users\\\\zexin\\\\Anaconda3\\\\envs\\\\research1.0\\\\lib',\n",
       " 'C:\\\\Users\\\\zexin\\\\Anaconda3\\\\envs\\\\research1.0',\n",
       " '',\n",
       " 'C:\\\\Users\\\\zexin\\\\AppData\\\\Roaming\\\\Python\\\\Python37\\\\site-packages',\n",
       " 'C:\\\\Users\\\\zexin\\\\Anaconda3\\\\envs\\\\research1.0\\\\lib\\\\site-packages',\n",
       " 'C:\\\\Users\\\\zexin\\\\Anaconda3\\\\envs\\\\research1.0\\\\lib\\\\site-packages\\\\win32',\n",
       " 'C:\\\\Users\\\\zexin\\\\Anaconda3\\\\envs\\\\research1.0\\\\lib\\\\site-packages\\\\win32\\\\lib',\n",
       " 'C:\\\\Users\\\\zexin\\\\Anaconda3\\\\envs\\\\research1.0\\\\lib\\\\site-packages\\\\Pythonwin',\n",
       " 'C:\\\\Users\\\\zexin\\\\Anaconda3\\\\envs\\\\research1.0\\\\lib\\\\site-packages\\\\IPython\\\\extensions',\n",
       " 'C:\\\\Users\\\\zexin\\\\.ipython']"
      ]
     },
     "execution_count": 1,
     "metadata": {},
     "output_type": "execute_result"
    }
   ],
   "source": [
    "import sys; sys.path"
   ]
  },
  {
   "cell_type": "code",
   "execution_count": 2,
   "metadata": {
    "tags": []
   },
   "outputs": [
    {
     "name": "stdout",
     "output_type": "stream",
     "text": [
      "e:\\research\\Prof.Chen\\20200110\\data\\JD data\n",
      "E:\\research\\Prof.Chen\\20200110\\data\\JD data\n"
     ]
    }
   ],
   "source": [
    "# Set working directory\n",
    "import os\n",
    "\n",
    "path = os.getcwd()\n",
    "\n",
    "print(path)\n",
    "os.chdir('E:/research/Prof.Chen/20200110/data/JD data')\n",
    "\n",
    "print(os.getcwd())"
   ]
  },
  {
   "cell_type": "code",
   "execution_count": 3,
   "metadata": {},
   "outputs": [],
   "source": [
    "import numpy as np\n",
    "import pandas as pd\n",
    "import datetime as dt\n",
    "from numpy import array\n",
    "from numpy import argmax\n",
    "import csv\n",
    "# Modeling\n",
    "import sklearn\n",
    "from sklearn.preprocessing import LabelEncoder\n",
    "from sklearn.preprocessing import OneHotEncoder\n",
    "\n",
    "import scipy \n",
    "import scipy.stats as ss\n",
    "\n",
    "# Optimization Solver\n",
    "import cvxpy as cp\n"
   ]
  },
  {
   "cell_type": "code",
   "execution_count": 4,
   "metadata": {},
   "outputs": [],
   "source": [
    "# 'skus' table\n",
    "skus = pd.read_csv('JD_sku_data.csv')\n",
    "# 'users' table\n",
    "users = pd.read_csv('JD_user_data.csv')\n",
    "# 'orders' table\n",
    "orders = pd.read_csv('JD_order_data.csv')"
   ]
  },
  {
   "cell_type": "code",
   "execution_count": 5,
   "metadata": {
    "tags": []
   },
   "outputs": [
    {
     "name": "stdout",
     "output_type": "stream",
     "text": [
      "(31868, 7)        sku_ID  type    brand_ID attribute1 attribute2 activate_date  \\\n",
      "0  a234e08c57     1  c3ab4bf4d9        3.0       60.0           NaN   \n",
      "1  6449e1fd87     1  1d8b4b4c63        2.0       50.0           NaN   \n",
      "2  09b70fcd83     2  eb7d2a675a        3.0       70.0           NaN   \n",
      "3  acad9fed04     2  9b0d3a5fc6        3.0       70.0           NaN   \n",
      "4  2fa77e3b4d     2  b681299668          -          -           NaN   \n",
      "\n",
      "  deactivate_date  \n",
      "0             NaN  \n",
      "1             NaN  \n",
      "2             NaN  \n",
      "3             NaN  \n",
      "4             NaN  \n"
     ]
    }
   ],
   "source": [
    "# Basic information of skus dataset\n",
    "print(skus.shape, skus.head())"
   ]
  },
  {
   "cell_type": "code",
   "execution_count": 6,
   "metadata": {
    "tags": []
   },
   "outputs": [
    {
     "name": "stdout",
     "output_type": "stream",
     "text": [
      "(457298, 10)       user_ID  user_level first_order_month  plus gender    age  \\\n",
      "0  000089d6a6           1           2017-08     0      F  26-35   \n",
      "1  0000babd1f           1           2018-03     0      U      U   \n",
      "2  0000bc018b           3           2016-06     0      F   >=56   \n",
      "3  0000d0e5ab           3           2014-06     0      M  26-35   \n",
      "4  0000dce472           3           2012-08     1      U      U   \n",
      "\n",
      "  marital_status  education  city_level  purchase_power  \n",
      "0              S          3           4               3  \n",
      "1              U         -1          -1              -1  \n",
      "2              M          3           2               3  \n",
      "3              M          3           2               2  \n",
      "4              U         -1          -1              -1  \n"
     ]
    },
    {
     "data": {
      "text/html": [
       "<div>\n",
       "<style scoped>\n",
       "    .dataframe tbody tr th:only-of-type {\n",
       "        vertical-align: middle;\n",
       "    }\n",
       "\n",
       "    .dataframe tbody tr th {\n",
       "        vertical-align: top;\n",
       "    }\n",
       "\n",
       "    .dataframe thead th {\n",
       "        text-align: right;\n",
       "    }\n",
       "</style>\n",
       "<table border=\"1\" class=\"dataframe\">\n",
       "  <thead>\n",
       "    <tr style=\"text-align: right;\">\n",
       "      <th></th>\n",
       "      <th>user_ID</th>\n",
       "      <th>user_level</th>\n",
       "      <th>first_order_month</th>\n",
       "      <th>plus</th>\n",
       "      <th>gender</th>\n",
       "      <th>age</th>\n",
       "      <th>marital_status</th>\n",
       "      <th>education</th>\n",
       "      <th>city_level</th>\n",
       "      <th>purchase_power</th>\n",
       "    </tr>\n",
       "  </thead>\n",
       "  <tbody>\n",
       "    <tr>\n",
       "      <th>0</th>\n",
       "      <td>000089d6a6</td>\n",
       "      <td>1</td>\n",
       "      <td>2017-08</td>\n",
       "      <td>0</td>\n",
       "      <td>F</td>\n",
       "      <td>26-35</td>\n",
       "      <td>S</td>\n",
       "      <td>3</td>\n",
       "      <td>4</td>\n",
       "      <td>3</td>\n",
       "    </tr>\n",
       "    <tr>\n",
       "      <th>1</th>\n",
       "      <td>0000babd1f</td>\n",
       "      <td>1</td>\n",
       "      <td>2018-03</td>\n",
       "      <td>0</td>\n",
       "      <td>U</td>\n",
       "      <td>U</td>\n",
       "      <td>U</td>\n",
       "      <td>-1</td>\n",
       "      <td>-1</td>\n",
       "      <td>-1</td>\n",
       "    </tr>\n",
       "    <tr>\n",
       "      <th>2</th>\n",
       "      <td>0000bc018b</td>\n",
       "      <td>3</td>\n",
       "      <td>2016-06</td>\n",
       "      <td>0</td>\n",
       "      <td>F</td>\n",
       "      <td>&gt;=56</td>\n",
       "      <td>M</td>\n",
       "      <td>3</td>\n",
       "      <td>2</td>\n",
       "      <td>3</td>\n",
       "    </tr>\n",
       "    <tr>\n",
       "      <th>3</th>\n",
       "      <td>0000d0e5ab</td>\n",
       "      <td>3</td>\n",
       "      <td>2014-06</td>\n",
       "      <td>0</td>\n",
       "      <td>M</td>\n",
       "      <td>26-35</td>\n",
       "      <td>M</td>\n",
       "      <td>3</td>\n",
       "      <td>2</td>\n",
       "      <td>2</td>\n",
       "    </tr>\n",
       "    <tr>\n",
       "      <th>4</th>\n",
       "      <td>0000dce472</td>\n",
       "      <td>3</td>\n",
       "      <td>2012-08</td>\n",
       "      <td>1</td>\n",
       "      <td>U</td>\n",
       "      <td>U</td>\n",
       "      <td>U</td>\n",
       "      <td>-1</td>\n",
       "      <td>-1</td>\n",
       "      <td>-1</td>\n",
       "    </tr>\n",
       "  </tbody>\n",
       "</table>\n",
       "</div>"
      ],
      "text/plain": [
       "      user_ID  user_level first_order_month  plus gender    age  \\\n",
       "0  000089d6a6           1           2017-08     0      F  26-35   \n",
       "1  0000babd1f           1           2018-03     0      U      U   \n",
       "2  0000bc018b           3           2016-06     0      F   >=56   \n",
       "3  0000d0e5ab           3           2014-06     0      M  26-35   \n",
       "4  0000dce472           3           2012-08     1      U      U   \n",
       "\n",
       "  marital_status  education  city_level  purchase_power  \n",
       "0              S          3           4               3  \n",
       "1              U         -1          -1              -1  \n",
       "2              M          3           2               3  \n",
       "3              M          3           2               2  \n",
       "4              U         -1          -1              -1  "
      ]
     },
     "execution_count": 6,
     "metadata": {},
     "output_type": "execute_result"
    }
   ],
   "source": [
    "# Basic information of users dataset\n",
    "print(users.shape, users.head())\n",
    "users.head()"
   ]
  },
  {
   "cell_type": "code",
   "execution_count": null,
   "metadata": {},
   "outputs": [],
   "source": []
  },
  {
   "cell_type": "code",
   "execution_count": 7,
   "metadata": {
    "tags": []
   },
   "outputs": [
    {
     "name": "stdout",
     "output_type": "stream",
     "text": [
      "(549989, 17)      order_ID     user_ID      sku_ID  order_date             order_time  \\\n",
      "0  d0cf5cc6db  0abe9ef2ce  581d5b54c1  2018-03-01  2018-03-01 17:14:25.0   \n",
      "1  7444318d01  33a9e56257  067b673f2b  2018-03-01  2018-03-01 11:10:40.0   \n",
      "2  f973b01694  4ea3cf408f  623d0a582a  2018-03-01  2018-03-01 09:13:26.0   \n",
      "3  8c1cec8d4b  b87cb736cb  fc5289b139  2018-03-01  2018-03-01 21:29:50.0   \n",
      "4  d43a33c38a  4829223b6f  623d0a582a  2018-03-01  2018-03-01 19:13:37.0   \n",
      "\n",
      "   quantity  type promise  original_unit_price  final_unit_price  \\\n",
      "0         1     2       -                 89.0              79.0   \n",
      "1         1     1       2                 99.9              53.9   \n",
      "2         1     1       2                 78.0              58.5   \n",
      "3         1     1       2                 61.0              35.0   \n",
      "4         1     1       1                 78.0              53.0   \n",
      "\n",
      "   direct_discount_per_unit  quantity_discount_per_unit  \\\n",
      "0                       0.0                        10.0   \n",
      "1                       5.0                        41.0   \n",
      "2                      19.5                         0.0   \n",
      "3                       0.0                        26.0   \n",
      "4                      19.0                         0.0   \n",
      "\n",
      "   bundle_discount_per_unit  coupon_discount_per_unit  gift_item  dc_ori  \\\n",
      "0                       0.0                       0.0          0       4   \n",
      "1                       0.0                       0.0          0      28   \n",
      "2                       0.0                       0.0          0      28   \n",
      "3                       0.0                       0.0          0       4   \n",
      "4                       0.0                       6.0          0       3   \n",
      "\n",
      "   dc_des  \n",
      "0      28  \n",
      "1      28  \n",
      "2      28  \n",
      "3      28  \n",
      "4      16  \n",
      "The number of unique product purchased: 9159\n"
     ]
    }
   ],
   "source": [
    "# Basic information of orders dataset\n",
    "print(orders.shape, orders.head()) \n",
    "print('The number of unique product purchased:',len(orders['sku_ID'].unique()))\n",
    "\n"
   ]
  },
  {
   "cell_type": "code",
   "execution_count": 8,
   "metadata": {},
   "outputs": [
    {
     "data": {
      "text/html": [
       "<div>\n",
       "<style scoped>\n",
       "    .dataframe tbody tr th:only-of-type {\n",
       "        vertical-align: middle;\n",
       "    }\n",
       "\n",
       "    .dataframe tbody tr th {\n",
       "        vertical-align: top;\n",
       "    }\n",
       "\n",
       "    .dataframe thead th {\n",
       "        text-align: right;\n",
       "    }\n",
       "</style>\n",
       "<table border=\"1\" class=\"dataframe\">\n",
       "  <thead>\n",
       "    <tr style=\"text-align: right;\">\n",
       "      <th></th>\n",
       "      <th>sku_ID</th>\n",
       "      <th>top5</th>\n",
       "    </tr>\n",
       "  </thead>\n",
       "  <tbody>\n",
       "    <tr>\n",
       "      <th>0</th>\n",
       "      <td>068f4481b3</td>\n",
       "      <td>23655</td>\n",
       "    </tr>\n",
       "    <tr>\n",
       "      <th>1</th>\n",
       "      <td>3c79df1d80</td>\n",
       "      <td>14463</td>\n",
       "    </tr>\n",
       "    <tr>\n",
       "      <th>2</th>\n",
       "      <td>a9109972d1</td>\n",
       "      <td>12176</td>\n",
       "    </tr>\n",
       "    <tr>\n",
       "      <th>3</th>\n",
       "      <td>623d0a582a</td>\n",
       "      <td>10175</td>\n",
       "    </tr>\n",
       "    <tr>\n",
       "      <th>4</th>\n",
       "      <td>8dc4a01dec</td>\n",
       "      <td>9891</td>\n",
       "    </tr>\n",
       "  </tbody>\n",
       "</table>\n",
       "</div>"
      ],
      "text/plain": [
       "       sku_ID   top5\n",
       "0  068f4481b3  23655\n",
       "1  3c79df1d80  14463\n",
       "2  a9109972d1  12176\n",
       "3  623d0a582a  10175\n",
       "4  8dc4a01dec   9891"
      ]
     },
     "execution_count": 8,
     "metadata": {},
     "output_type": "execute_result"
    }
   ],
   "source": [
    "## groupby by sku_ID\n",
    "## https://pandas.pydata.org/pandas-docs/stable/reference/api/pandas.DataFrame.groupby.html\n",
    "orders.groupby(['sku_ID']).size().nlargest(5).reset_index(name='top5')"
   ]
  },
  {
   "cell_type": "code",
   "execution_count": 9,
   "metadata": {
    "tags": []
   },
   "outputs": [
    {
     "name": "stdout",
     "output_type": "stream",
     "text": [
      "The sample size is: (23655, 17)            quantity     type  original_unit_price  final_unit_price  \\\n",
      "count  23655.000000  23655.0         23655.000000      23655.000000   \n",
      "mean       1.089368      1.0           297.155347        218.220955   \n",
      "std        1.445569      0.0             9.814908         15.174430   \n",
      "min        1.000000      1.0           119.200000          2.000000   \n",
      "25%        1.000000      1.0           298.000000        208.000000   \n",
      "50%        1.000000      1.0           298.000000        216.000000   \n",
      "75%        1.000000      1.0           298.000000        228.000000   \n",
      "max      139.000000      1.0           745.000000        745.000000   \n",
      "\n",
      "       direct_discount_per_unit  quantity_discount_per_unit  \\\n",
      "count              23655.000000                     23655.0   \n",
      "mean                  68.899472                         0.0   \n",
      "std                   25.120224                         0.0   \n",
      "min                    0.000000                         0.0   \n",
      "25%                   70.000000                         0.0   \n",
      "50%                   70.000000                         0.0   \n",
      "75%                   90.000000                         0.0   \n",
      "max                  180.000000                         0.0   \n",
      "\n",
      "       bundle_discount_per_unit  coupon_discount_per_unit  gift_item  \\\n",
      "count              23655.000000              23655.000000    23655.0   \n",
      "mean                   6.546848                  3.488072        0.0   \n",
      "std                   22.331197                  7.223185        0.0   \n",
      "min                    0.000000                  0.000000        0.0   \n",
      "25%                    0.000000                  0.000000        0.0   \n",
      "50%                    0.000000                  0.000000        0.0   \n",
      "75%                    0.000000                  5.000000        0.0   \n",
      "max                  252.000000                206.000000        0.0   \n",
      "\n",
      "             dc_ori        dc_des  \n",
      "count  23655.000000  23655.000000  \n",
      "mean      16.333587     20.143564  \n",
      "std       15.522517     16.843262  \n",
      "min        1.000000      1.000000  \n",
      "25%        5.000000      5.000000  \n",
      "50%        9.000000     16.000000  \n",
      "75%       27.000000     33.000000  \n",
      "max       67.000000     67.000000  \n",
      "The number of unique customers purchase this product: 22996 , which is False equal to the number of samples.\n"
     ]
    }
   ],
   "source": [
    "## Only select the product with the most samples\n",
    "orders_single = orders.loc[orders['sku_ID'] == '068f4481b3']\n",
    "\n",
    "print('The sample size is:',orders_single.shape, orders_single.describe())\n",
    "print('The number of unique customers purchase this product:',len(orders_single['user_ID'].unique()), ', which is', len(orders_single['user_ID'].unique()) == orders_single.shape[0], 'equal to the number of samples.')"
   ]
  },
  {
   "cell_type": "code",
   "execution_count": 10,
   "metadata": {
    "tags": []
   },
   "outputs": [
    {
     "name": "stdout",
     "output_type": "stream",
     "text": [
      "The unmber of unique prices is 188 . The prices distribute as count    23655.000000\n",
      "mean       218.220955\n",
      "std         15.174430\n",
      "min          2.000000\n",
      "25%        208.000000\n",
      "50%        216.000000\n",
      "75%        228.000000\n",
      "max        745.000000\n",
      "Name: final_unit_price, dtype: float64\n",
      "       user_ID  quantity  final_unit_price\n",
      "9   2021a86702         1             208.0\n",
      "34  3f399e9323         1             208.0\n",
      "78  f83141d477         1             198.0\n",
      "83  28ac8c9203         1             208.0\n",
      "98  12f610851e         1             198.0\n",
      "The sample size after aggregation is (22996, 3)\n",
      "            quantity  final_unit_price  final_total_price\n",
      "user_ID                                                  \n",
      "0009796280         1             245.0              245.0\n",
      "001282c65e         1             208.0              208.0\n",
      "0012f95e63         1             208.0              208.0\n",
      "The unmber of unique prices after aggregation is 203 . The prices distribute as count    22996.000000\n",
      "mean       218.238303\n",
      "std         14.172532\n",
      "min          2.000000\n",
      "25%        208.000000\n",
      "50%        216.500000\n",
      "75%        228.000000\n",
      "max        298.000000\n",
      "Name: final_unit_price, dtype: float64\n"
     ]
    }
   ],
   "source": [
    "## Only select columns: order_ID, user_ID(customer feature ID, key), quantity(demand), final_unit_price(price), final_total_price(revenue)\n",
    "orders_single_clean = orders_single[['user_ID', 'quantity', 'final_unit_price']]\n",
    "print('The unmber of unique prices is', len(orders_single_clean['final_unit_price'].unique()), '. The prices distribute as',  orders_single_clean['final_unit_price'].describe())\n",
    "print(orders_single_clean.head())\n",
    "## aggregate quantity and final_total_price across the unique customer\n",
    "orders_single_clean_agg = orders_single_clean\n",
    "orders_single_clean_agg['final_total_price'] = orders_single_clean['quantity'] * orders_single_clean['final_unit_price']\n",
    "orders_single_clean_agg = orders_single_clean_agg.groupby(by=[\"user_ID\"], dropna=True).sum()\n",
    "print('The sample size after aggregation is',orders_single_clean_agg.shape)\n",
    "orders_single_clean_agg['final_unit_price'] = orders_single_clean_agg['final_total_price'] / orders_single_clean_agg['quantity']\n",
    "print(orders_single_clean_agg.head(3))\n",
    "print('The unmber of unique prices after aggregation is', len(orders_single_clean_agg['final_unit_price'].unique()), '. The prices distribute as',  orders_single_clean_agg['final_unit_price'].describe())"
   ]
  },
  {
   "cell_type": "code",
   "execution_count": 11,
   "metadata": {},
   "outputs": [],
   "source": [
    "# Data Cleansing\n",
    "# "
   ]
  },
  {
   "cell_type": "code",
   "execution_count": 12,
   "metadata": {
    "tags": []
   },
   "outputs": [],
   "source": [
    "# Feature Engineering\n",
    "# The selected user features\n",
    "# normal(i.e.marital_status\teducation\tcity_level\tpurchase_power) + sensitive(i.e. gender)\n",
    "users_trim = users[['user_ID', 'user_level','age',\t'marital_status', 'education',\t'city_level', 'purchase_power', 'gender']]\n"
   ]
  },
  {
   "cell_type": "code",
   "execution_count": 13,
   "metadata": {
    "tags": []
   },
   "outputs": [
    {
     "name": "stdout",
     "output_type": "stream",
     "text": [
      "The user sample size for female and male only is (399981, 8)\n",
      "      user_ID  user_level    age marital_status  education  city_level  \\\n",
      "0  000089d6a6           1  26-35              S          3           4   \n",
      "2  0000bc018b           3   >=56              M          3           2   \n",
      "3  0000d0e5ab           3  26-35              M          3           2   \n",
      "\n",
      "   purchase_power gender  \n",
      "0               3      F  \n",
      "2               3      F  \n",
      "3               2      M  \n"
     ]
    }
   ],
   "source": [
    "#### Remove all uncatorized rows\n",
    "#### Gender : select F or M and remove U \n",
    "\n",
    "users_clean = users_trim.loc[(users_trim['gender'] == 'F') | (users_trim['gender'] == 'M')] \n",
    "print('The user sample size for female and male only is', users_clean.shape)\n",
    "print(users_clean.head(3))\n"
   ]
  },
  {
   "cell_type": "code",
   "execution_count": 14,
   "metadata": {
    "tags": []
   },
   "outputs": [
    {
     "name": "stdout",
     "output_type": "stream",
     "text": [
      "The user sample size for all identified groups is (316230, 8)\n",
      "      user_ID  user_level    age marital_status  education  city_level  \\\n",
      "0  000089d6a6           1  26-35              S          3           4   \n",
      "2  0000bc018b           3   >=56              M          3           2   \n",
      "3  0000d0e5ab           3  26-35              M          3           2   \n",
      "\n",
      "   purchase_power gender  \n",
      "0               3      F  \n",
      "2               3      F  \n",
      "3               2      M  \n"
     ]
    }
   ],
   "source": [
    "#### age (<=15: less than or equal to 15 years old, 16-25: 16 to 25 years old, 26-35: 26 to 35 years old, 36-45: 36 to 45 years old, 46-55: 46 to 55 years old, >=56: greater than or equal to 56 years old, U: unknown); \n",
    "#### marriage – user’s marital status (M: Married, S: Single, U: Unknown)\n",
    "#### education – user’s education level (1: less than high school, 2: high school diploma or equivalent, 3: Bachelor’s degree, 4: post-graduate degree, −1: unknown); \n",
    "#### purchase_power – user’s estimated purchase power (ranging from 1 to 5 with 1 being the highest purchase power; −1 if there is no estimation) \n",
    "#### city_level, which takes on values ranging between 1 and 5: level 1 corresponds to highly industrialized cities such as Beijing and Shanghai; level 2 cities correspond to provincial capitals; level 3 to 5 cities are smaller cities; if there are no data then the value is −1. \n",
    "#### user_level takes on a value of 0, 1, 2, 3, or 4, where a higher user_level is associated with a higher total purchase value in the past. For users who are enterprise users (e.g., small shops in rural areas or small businesses), the corresponding user_level takes on a value of 10. However, for first-time purchasers, their user_level takes on the value −1 \n",
    "\n",
    "# users_clean = users_clean.drop(users_trim[users_trim['age'] == 'U'].index, inplace = False) \n",
    "users_clean = users_clean.loc[(users_clean['age'] != 'U') & (users_clean['marital_status'] != 'U') & (users_clean['education'] != -1) & (users_clean['purchase_power'] != -1) & (users_clean['city_level'] != -1) & (users_clean['user_level'] != -1)]\n",
    "print('The user sample size for all identified groups is', users_clean.shape)\n",
    "print(users_clean.head(3))"
   ]
  },
  {
   "cell_type": "code",
   "execution_count": 15,
   "metadata": {
    "tags": []
   },
   "outputs": [
    {
     "name": "stdout",
     "output_type": "stream",
     "text": [
      "0         1\n",
      "2         1\n",
      "3         2\n",
      "5         1\n",
      "6         1\n",
      "         ..\n",
      "457286    1\n",
      "457291    1\n",
      "457292    1\n",
      "457294    2\n",
      "457295    2\n",
      "Name: gender, Length: 316230, dtype: int32\n"
     ]
    }
   ],
   "source": [
    "## Feature transformation and encoding\n",
    "label_encoder = LabelEncoder()\n",
    "## Gender: Female = 1, Male = 2\n",
    "users_clean['gender'] = label_encoder.fit_transform(users_clean['gender']) + 1 \n",
    "print(users_clean['gender'])"
   ]
  },
  {
   "cell_type": "code",
   "execution_count": 16,
   "metadata": {
    "tags": []
   },
   "outputs": [
    {
     "name": "stdout",
     "output_type": "stream",
     "text": [
      "0         2\n",
      "2         6\n",
      "3         2\n",
      "5         2\n",
      "6         2\n",
      "         ..\n",
      "457286    4\n",
      "457291    2\n",
      "457292    2\n",
      "457294    2\n",
      "457295    3\n",
      "Name: age, Length: 316230, dtype: int32\n"
     ]
    }
   ],
   "source": [
    "## age\n",
    "users_clean['age'] = label_encoder.fit_transform(users_clean['age']) + 1\n",
    "print(users_clean['age']) "
   ]
  },
  {
   "cell_type": "code",
   "execution_count": 17,
   "metadata": {
    "tags": []
   },
   "outputs": [
    {
     "name": "stdout",
     "output_type": "stream",
     "text": [
      "0         2\n",
      "2         1\n",
      "3         1\n",
      "5         1\n",
      "6         1\n",
      "         ..\n",
      "457286    1\n",
      "457291    1\n",
      "457292    2\n",
      "457294    2\n",
      "457295    1\n",
      "Name: marital_status, Length: 316230, dtype: int32\n"
     ]
    }
   ],
   "source": [
    "## marital_status\n",
    "users_clean['marital_status'] = label_encoder.fit_transform(users_clean['marital_status']) + 1\n",
    "print(users_clean['marital_status'])"
   ]
  },
  {
   "cell_type": "code",
   "execution_count": 18,
   "metadata": {},
   "outputs": [],
   "source": [
    "# The product we select\n",
    "# The columns selected in the order dataset "
   ]
  },
  {
   "cell_type": "code",
   "execution_count": 19,
   "metadata": {
    "tags": []
   },
   "outputs": [
    {
     "name": "stdout",
     "output_type": "stream",
     "text": [
      "The size of the cleaned data from a single product is (23655, 3)\n",
      "       user_ID  quantity  final_unit_price\n",
      "9   2021a86702         1             208.0\n",
      "34  3f399e9323         1             208.0\n",
      "78  f83141d477         1             198.0\n",
      "83  28ac8c9203         1             208.0\n",
      "98  12f610851e         1             198.0\n",
      "The size of the merged data from a single product and corresponding unique users is (23655, 10)\n",
      "      user_ID  quantity  final_unit_price  user_level  age  marital_status  \\\n",
      "0  2021a86702         1             208.0         NaN  NaN             NaN   \n",
      "1  3f399e9323         1             208.0         2.0  1.0             2.0   \n",
      "2  f83141d477         1             198.0         2.0  1.0             1.0   \n",
      "\n",
      "   education  city_level  purchase_power  gender  \n",
      "0        NaN         NaN             NaN     NaN  \n",
      "1        3.0         2.0             2.0     1.0  \n",
      "2        2.0         3.0             4.0     1.0   ['user_ID' 'quantity' 'final_unit_price' 'user_level' 'age'\n",
      " 'marital_status' 'education' 'city_level' 'purchase_power' 'gender']\n",
      "           quantity  final_unit_price    user_level           age  \\\n",
      "count  23655.000000      23655.000000  19031.000000  19031.000000   \n",
      "mean       1.089368        218.220955      2.888918      2.139877   \n",
      "std        1.445569         15.174430      0.993705      0.919733   \n",
      "min        1.000000          2.000000      1.000000      1.000000   \n",
      "25%        1.000000        208.000000      2.000000      2.000000   \n",
      "50%        1.000000        216.000000      3.000000      2.000000   \n",
      "75%        1.000000        228.000000      4.000000      2.000000   \n",
      "max      139.000000        745.000000      4.000000      6.000000   \n",
      "\n",
      "       marital_status     education    city_level  purchase_power  \\\n",
      "count    19031.000000  19031.000000  19031.000000    19031.000000   \n",
      "mean         1.521728      3.082970      2.098786        2.158478   \n",
      "std          0.499541      0.542371      1.025740        0.446392   \n",
      "min          1.000000      1.000000      1.000000        1.000000   \n",
      "25%          1.000000      3.000000      1.000000        2.000000   \n",
      "50%          2.000000      3.000000      2.000000        2.000000   \n",
      "75%          2.000000      3.000000      3.000000        2.000000   \n",
      "max          2.000000      4.000000      5.000000        5.000000   \n",
      "\n",
      "             gender  \n",
      "count  19031.000000  \n",
      "mean       1.317114  \n",
      "std        0.465365  \n",
      "min        1.000000  \n",
      "25%        1.000000  \n",
      "50%        1.000000  \n",
      "75%        2.000000  \n",
      "max        2.000000  \n"
     ]
    },
    {
     "data": {
      "text/plain": [
       "<function print>"
      ]
     },
     "execution_count": 19,
     "metadata": {},
     "output_type": "execute_result"
    }
   ],
   "source": [
    "# Combine 2 dfs\n",
    "orders_single_clean = orders_single[['user_ID', 'quantity', 'final_unit_price']]\n",
    "print('The size of the cleaned data from a single product is', orders_single_clean.shape)\n",
    "print(orders_single_clean.head())\n",
    "orders_users = pd.merge(orders_single_clean, users_clean, on='user_ID', how='left')\n",
    "print('The size of the merged data from a single product and corresponding unique users is', orders_users.shape)\n",
    "print(orders_users.head(3), orders_users.columns.values)\n",
    "print(orders_users.describe())\n",
    "print"
   ]
  },
  {
   "cell_type": "code",
   "execution_count": 20,
   "metadata": {
    "tags": []
   },
   "outputs": [
    {
     "name": "stdout",
     "output_type": "stream",
     "text": [
      "(19031, 10)\n",
      "(3044, 8) (15987, 8)\n",
      "       final_unit_price  user_level  age  marital_status  education  \\\n",
      "18396             225.0         4.0  2.0             1.0        4.0   \n",
      "4072              208.0         4.0  2.0             1.0        4.0   \n",
      "23380             216.0         4.0  3.0             1.0        4.0   \n",
      "\n",
      "       city_level  purchase_power  gender  \n",
      "18396         3.0             2.0     1.0  \n",
      "4072          2.0             2.0     1.0  \n",
      "23380         2.0             3.0     1.0  \n",
      "   final_unit_price  user_level  age  marital_status  education  city_level  \\\n",
      "0          3.918519         5.0  1.8             1.0        5.0         3.0   \n",
      "1          3.666667         5.0  1.8             1.0        5.0         2.0   \n",
      "2          3.785185         5.0  2.6             1.0        5.0         2.0   \n",
      "\n",
      "   purchase_power  gender  \n",
      "0             2.0     1.0  \n",
      "1             2.0     1.0  \n",
      "2             3.0     1.0  \n",
      "   final_unit_price  user_level  age  marital_status  education  city_level  \\\n",
      "0          3.519878    1.000000  1.0             1.0   2.333333         4.0   \n",
      "1          3.727829    3.666667  1.8             5.0   3.666667         4.0   \n",
      "2          3.519878    3.666667  1.8             1.0   3.666667         2.0   \n",
      "\n",
      "   purchase_power  gender  \n",
      "0             2.0     1.0  \n",
      "1             3.0     5.0  \n",
      "2             2.0     1.0  \n"
     ]
    }
   ],
   "source": [
    "# Fit linear demand function\n",
    "## data preprocessing\n",
    "# drop rows with missing values\n",
    "orders_users.dropna(inplace=True)\n",
    "# summarize the shape of the data with missing rows removed\n",
    "print(orders_users.shape)\n",
    "### create training and testing datasets\n",
    "from sklearn.model_selection import train_test_split\n",
    "\n",
    "column_values = ['final_unit_price', 'user_level', 'age', 'marital_status', 'education', 'city_level', 'purchase_power', 'gender']\n",
    "X_train, X_test, y_train, y_test = train_test_split(orders_users[column_values], orders_users['quantity'], test_size=0.88)\n",
    "# train_index_values = X_train['user_ID']\n",
    "# print(len(train_index_values))\n",
    "X_train.columns = column_values\n",
    "print(X_train.shape, X_test.shape)\n",
    "print(X_train.head(3))\n",
    "### standardize the training data\n",
    "from sklearn.preprocessing import StandardScaler\n",
    "from sklearn.preprocessing import MinMaxScaler\n",
    "from sklearn.preprocessing import minmax_scale\n",
    "X_std_train = MinMaxScaler(feature_range = (1,5), copy = True).fit_transform(X_train)\n",
    "X_std_test = MinMaxScaler(feature_range = (1,5), copy = True).fit_transform(X_test)\n",
    "X_std_train_df = pd.DataFrame(data = X_std_train,  \n",
    "                  # index = train_index_values,  \n",
    "                  columns = column_values) \n",
    "X_std_test_df = pd.DataFrame(data = X_std_test,  \n",
    "                  # index = test_index_values,  \n",
    "                  columns = column_values) \n",
    "print(X_std_train_df.head(3))\n",
    "print(X_std_test_df.head(3))"
   ]
  },
  {
   "cell_type": "code",
   "execution_count": 21,
   "metadata": {},
   "outputs": [
    {
     "data": {
      "text/plain": [
       "1    0.448662\n",
       "2    0.616915\n",
       "6    0.821875\n",
       "7    0.862657\n",
       "5    0.995529\n",
       "4    1.015482\n",
       "3    1.192836\n",
       "0    2.046045\n",
       "dtype: float64"
      ]
     },
     "execution_count": 21,
     "metadata": {},
     "output_type": "execute_result"
    }
   ],
   "source": [
    "## Colinerality Detection\n",
    "eigenvalues, eigenvectors = np.linalg.eig(pd.DataFrame(X_std_train).corr())\n",
    "pd.Series(eigenvalues).sort_values()\n",
    "#### in this DATASET, the eigenvalueS ARE NOT TOO SMALL small which does not show evidence of collinearity. "
   ]
  },
  {
   "cell_type": "code",
   "execution_count": 28,
   "metadata": {},
   "outputs": [],
   "source": [
    "## Data\n",
    "## normalize\n",
    "column_values = column_values[1:]\n",
    "orders_users_X = orders_users[column_values]\n",
    "orders_users_X_std = minmax_scale(orders_users_X, feature_range=(1,5), axis=0, copy=True)\n",
    "orders_users_X_std_df = pd.DataFrame( orders_users_X_std,  \n",
    "                  columns = column_values) "
   ]
  }
 ],
 "metadata": {
  "kernelspec": {
   "display_name": "Python 3.7.7 64-bit ('research1.0': conda)",
   "metadata": {
    "interpreter": {
     "hash": "66810db6d6aa635699219b8da7573306d512751362ae0916f0b54c98b498016d"
    }
   },
   "name": "Python 3.7.7 64-bit ('research1.0': conda)"
  },
  "language_info": {
   "codemirror_mode": {
    "name": "ipython",
    "version": 3
   },
   "file_extension": ".py",
   "mimetype": "text/x-python",
   "name": "python",
   "nbconvert_exporter": "python",
   "pygments_lexer": "ipython3",
   "version": "3.7.7-final"
  },
  "orig_nbformat": 2
 },
 "nbformat": 4,
 "nbformat_minor": 2
}
